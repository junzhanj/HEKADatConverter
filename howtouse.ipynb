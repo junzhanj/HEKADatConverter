{
 "cells": [
  {
   "cell_type": "code",
   "execution_count": 1,
   "id": "838d2b33",
   "metadata": {},
   "outputs": [],
   "source": [
    "from HEKADatConverter import convert_dat_to_ABF"
   ]
  },
  {
   "cell_type": "code",
   "execution_count": 2,
   "id": "60ed5131",
   "metadata": {},
   "outputs": [
    {
     "name": "stdout",
     "output_type": "stream",
     "text": [
      "Current data has 1 Group(s):\n",
      "group 1 E-1 has 6 Series:\n",
      "        Series 1 : cell 3 fp with 28 sweep(s) and 1 trace(s)/sweep\n",
      "        Series 2 : Cm with 30 sweep(s) and 1 trace(s)/sweep\n",
      "        Series 3 : sp with 2 sweep(s) and 1 trace(s)/sweep\n",
      "        Series 4 : NaK with 19 sweep(s) and 1 trace(s)/sweep\n",
      "        Series 5 : NaK with 25 sweep(s) and 1 trace(s)/sweep\n",
      "        Series 6 : NaK with 25 sweep(s) and 1 trace(s)/sweep\n"
     ]
    }
   ],
   "source": [
    "input_dir = '../data/'#change to your direction\n",
    "output_dir = input_dir\n",
    "file = '240214s1c06.dat'\n",
    "convert_dat_to_ABF(input_dir=input_dir, file=file, output_dir=output_dir)"
   ]
  },
  {
   "cell_type": "code",
   "execution_count": null,
   "id": "38571796",
   "metadata": {},
   "outputs": [],
   "source": []
  }
 ],
 "metadata": {
  "kernelspec": {
   "display_name": "Python 3 (ipykernel)",
   "language": "python",
   "name": "python3"
  },
  "language_info": {
   "codemirror_mode": {
    "name": "ipython",
    "version": 3
   },
   "file_extension": ".py",
   "mimetype": "text/x-python",
   "name": "python",
   "nbconvert_exporter": "python",
   "pygments_lexer": "ipython3",
   "version": "3.9.13"
  }
 },
 "nbformat": 4,
 "nbformat_minor": 5
}
